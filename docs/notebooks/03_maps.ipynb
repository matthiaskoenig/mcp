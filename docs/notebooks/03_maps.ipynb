{
 "cells": [
  {
   "cell_type": "markdown",
   "metadata": {},
   "source": [
    "# Finite difference equations & maps"
   ]
  },
  {
   "cell_type": "code",
   "execution_count": 72,
   "metadata": {},
   "outputs": [],
   "source": [
    "%matplotlib inline\n",
    "\n",
    "from matplotlib import pyplot as plt\n",
    "import numpy as np\n",
    "import pandas as pd\n",
    "from pprint import pprint\n",
    "\n",
    "def map_simulate(x0, f_rules, steps=10, print_results=True):\n",
    "    \"\"\" simulates map. \"\"\"\n",
    "    states = np.zeros(shape=((steps+1), x0.size), dtype=float)\n",
    "    \n",
    "    \n",
    "    pprint(\"x0 = {}\".format(x0.astype(np.float)))\n",
    "    states[0, :] = x0\n",
    "    for k in range(steps):\n",
    "        x = states[k]\n",
    "        states[k+1, :] = f_rules(states[k, :])\n",
    "        \n",
    "    # convert to pandas data frame\n",
    "    names = [f\"S{k}\" for k in range(x0.size)]\n",
    "    index = [f\"x{k}\" for k in range(steps+1)]\n",
    "    df = pd.DataFrame(states, columns=names, index=index)\n",
    "    # add time column\n",
    "    df[\"time\"] = range(steps+1)\n",
    "    \n",
    "    if print_results:\n",
    "        print(df)\n",
    "        print(\"-\" * 40)\n",
    "    return df\n",
    "\n",
    "def f_linear_factory(R=1.0):\n",
    "    print(f\"Creating f_linear: 'x(t+1) = {R} * x'\")\n",
    "    \n",
    "    def f_linear(x, R=R):\n",
    "        \"\"\" Linear map. \"\"\"\n",
    "        x_new = R * x\n",
    "        return x_new\n",
    "    \n",
    "    return f_linear\n"
   ]
  },
  {
   "cell_type": "code",
   "execution_count": 73,
   "metadata": {},
   "outputs": [
    {
     "name": "stdout",
     "output_type": "stream",
     "text": [
      "Creating f_linear: 'x(t+1) = 1.0 * x'\n",
      "'x0 = [1.]'\n",
      "      S0  time\n",
      "x0   1.0     0\n",
      "x1   1.0     1\n",
      "x2   1.0     2\n",
      "x3   1.0     3\n",
      "x4   1.0     4\n",
      "x5   1.0     5\n",
      "x6   1.0     6\n",
      "x7   1.0     7\n",
      "x8   1.0     8\n",
      "x9   1.0     9\n",
      "x10  1.0    10\n",
      "----------------------------------------\n",
      "Creating f_linear: 'x(t+1) = 0.8 * x'\n",
      "'x0 = [1.]'\n",
      "           S0  time\n",
      "x0   1.000000     0\n",
      "x1   0.800000     1\n",
      "x2   0.640000     2\n",
      "x3   0.512000     3\n",
      "x4   0.409600     4\n",
      "x5   0.327680     5\n",
      "x6   0.262144     6\n",
      "x7   0.209715     7\n",
      "x8   0.167772     8\n",
      "x9   0.134218     9\n",
      "x10  0.107374    10\n",
      "----------------------------------------\n",
      "Creating f_linear: 'x(t+1) = 1.5 * x'\n",
      "'x0 = [1. 2. 3.]'\n",
      "            S0          S1          S2  time\n",
      "x0    1.000000    2.000000    3.000000     0\n",
      "x1    1.500000    3.000000    4.500000     1\n",
      "x2    2.250000    4.500000    6.750000     2\n",
      "x3    3.375000    6.750000   10.125000     3\n",
      "x4    5.062500   10.125000   15.187500     4\n",
      "x5    7.593750   15.187500   22.781250     5\n",
      "x6   11.390625   22.781250   34.171875     6\n",
      "x7   17.085938   34.171875   51.257812     7\n",
      "x8   25.628906   51.257812   76.886719     8\n",
      "x9   38.443359   76.886719  115.330078     9\n",
      "x10  57.665039  115.330078  172.995117    10\n",
      "----------------------------------------\n"
     ]
    }
   ],
   "source": [
    "df1 = map_simulate(x0 = np.array([1.0]), f_rules=f_linear_factory(R=1.0))\n",
    "df2 = map_simulate(x0 = np.array([1.0]), f_rules=f_linear_factory(R=0.8))\n",
    "\n",
    "# this works also for maps with multiple state variables\n",
    "df2 = map_simulate(x0 = np.array([1.0, 2.0, 3.0]), f_rules=f_linear_factory(R=1.5))"
   ]
  },
  {
   "cell_type": "code",
   "execution_count": 74,
   "metadata": {},
   "outputs": [
    {
     "name": "stdout",
     "output_type": "stream",
     "text": [
      "Creating f_linear: 'x(t+1) = -2.0 * x'\n",
      "'x0 = [1.]'\n",
      "         S0  time\n",
      "x0      1.0     0\n",
      "x1     -2.0     1\n",
      "x2      4.0     2\n",
      "x3     -8.0     3\n",
      "x4     16.0     4\n",
      "x5    -32.0     5\n",
      "x6     64.0     6\n",
      "x7   -128.0     7\n",
      "x8    256.0     8\n",
      "x9   -512.0     9\n",
      "x10  1024.0    10\n",
      "----------------------------------------\n",
      "Creating f_linear: 'x(t+1) = -1.0 * x'\n",
      "'x0 = [1.]'\n",
      "      S0  time\n",
      "x0   1.0     0\n",
      "x1  -1.0     1\n",
      "x2   1.0     2\n",
      "x3  -1.0     3\n",
      "x4   1.0     4\n",
      "x5  -1.0     5\n",
      "x6   1.0     6\n",
      "x7  -1.0     7\n",
      "x8   1.0     8\n",
      "x9  -1.0     9\n",
      "x10  1.0    10\n",
      "----------------------------------------\n",
      "Creating f_linear: 'x(t+1) = -0.5 * x'\n",
      "'x0 = [1.]'\n",
      "           S0  time\n",
      "x0   1.000000     0\n",
      "x1  -0.500000     1\n",
      "x2   0.250000     2\n",
      "x3  -0.125000     3\n",
      "x4   0.062500     4\n",
      "x5  -0.031250     5\n",
      "x6   0.015625     6\n",
      "x7  -0.007812     7\n",
      "x8   0.003906     8\n",
      "x9  -0.001953     9\n",
      "x10  0.000977    10\n",
      "----------------------------------------\n",
      "Creating f_linear: 'x(t+1) = 0.0 * x'\n",
      "'x0 = [1.]'\n",
      "      S0  time\n",
      "x0   1.0     0\n",
      "x1   0.0     1\n",
      "x2   0.0     2\n",
      "x3   0.0     3\n",
      "x4   0.0     4\n",
      "x5   0.0     5\n",
      "x6   0.0     6\n",
      "x7   0.0     7\n",
      "x8   0.0     8\n",
      "x9   0.0     9\n",
      "x10  0.0    10\n",
      "----------------------------------------\n",
      "Creating f_linear: 'x(t+1) = 0.5 * x'\n",
      "'x0 = [1.]'\n",
      "           S0  time\n",
      "x0   1.000000     0\n",
      "x1   0.500000     1\n",
      "x2   0.250000     2\n",
      "x3   0.125000     3\n",
      "x4   0.062500     4\n",
      "x5   0.031250     5\n",
      "x6   0.015625     6\n",
      "x7   0.007812     7\n",
      "x8   0.003906     8\n",
      "x9   0.001953     9\n",
      "x10  0.000977    10\n",
      "----------------------------------------\n",
      "Creating f_linear: 'x(t+1) = 1.0 * x'\n",
      "'x0 = [1.]'\n",
      "      S0  time\n",
      "x0   1.0     0\n",
      "x1   1.0     1\n",
      "x2   1.0     2\n",
      "x3   1.0     3\n",
      "x4   1.0     4\n",
      "x5   1.0     5\n",
      "x6   1.0     6\n",
      "x7   1.0     7\n",
      "x8   1.0     8\n",
      "x9   1.0     9\n",
      "x10  1.0    10\n",
      "----------------------------------------\n",
      "Creating f_linear: 'x(t+1) = 2.0 * x'\n",
      "'x0 = [1.]'\n",
      "         S0  time\n",
      "x0      1.0     0\n",
      "x1      2.0     1\n",
      "x2      4.0     2\n",
      "x3      8.0     3\n",
      "x4     16.0     4\n",
      "x5     32.0     5\n",
      "x6     64.0     6\n",
      "x7    128.0     7\n",
      "x8    256.0     8\n",
      "x9    512.0     9\n",
      "x10  1024.0    10\n",
      "----------------------------------------\n"
     ]
    },
    {
     "data": {
      "image/png": "[encoded data removed]",
      "text/plain": [
       "<Figure size 1440x216 with 7 Axes>"
      ]
     },
     "metadata": {
      "needs_background": "light"
     },
     "output_type": "display_data"
    }
   ],
   "source": [
    "# simulate the various R values\n",
    "R_values = [-2.0, -1.0, -0.5, 0.0, 0.5, 1.0, 2.0]\n",
    "results = []\n",
    "for R in R_values:\n",
    "    results.append(\n",
    "        map_simulate(x0 = np.array([1.0]), f_rules=f_linear_factory(R=R))\n",
    "    )\n",
    "\n",
    "# plot results\n",
    "f, axes = plt.subplots(nrows=1, ncols=len(R_values), figsize=(20, 3))\n",
    "f.subplots_adjust(wspace=0.5)\n",
    "for k, R in enumerate(R_values):\n",
    "    ax = axes[k]\n",
    "    df = results[k]\n",
    "    ax.plot(df.time, df.S0, 'o', color=\"black\")\n",
    "    ax.set_title(f\"R={R}\")\n",
    "    ax.set_ylabel(\"state\")\n",
    "    ax.set_xlabel(\"time\")\n",
    "\n",
    "plt.show()\n",
    "f.savefig(\"./images/linear_map.png\", bbox_inches=\"tight\", dpi=150)"
   ]
  },
  {
   "cell_type": "markdown",
   "metadata": {},
   "source": [
    "## logistic map"
   ]
  },
  {
   "cell_type": "code",
   "execution_count": 75,
   "metadata": {},
   "outputs": [],
   "source": [
    "def f_logistic_factory(R=1.0):\n",
    "    \n",
    "    def f_logistic(x, R=R):\n",
    "        \"\"\" Linear map. \"\"\"\n",
    "        return R * x * (1-x)\n",
    "        \n",
    "    return f_logistic"
   ]
  },
  {
   "cell_type": "code",
   "execution_count": 76,
   "metadata": {},
   "outputs": [
    {
     "name": "stdout",
     "output_type": "stream",
     "text": [
      "'x0 = [0.5]'\n",
      "           S0  time\n",
      "x0   0.500000     0\n",
      "x1   0.375000     1\n",
      "x2   0.351562     2\n",
      "x3   0.341949     3\n",
      "x4   0.337530     4\n",
      "x5   0.335405     5\n",
      "x6   0.334363     6\n",
      "x7   0.333847     7\n",
      "x8   0.333590     8\n",
      "x9   0.333461     9\n",
      "x10  0.333397    10\n",
      "----------------------------------------\n"
     ]
    }
   ],
   "source": [
    "df1 = map_simulate(x0 = np.array([0.5]), f_rules=f_logistic_factory(R=1.5))"
   ]
  },
  {
   "cell_type": "code",
   "execution_count": 77,
   "metadata": {},
   "outputs": [
    {
     "name": "stdout",
     "output_type": "stream",
     "text": [
      "'x0 = [0.33333333]'\n",
      "           S0  time\n",
      "x0   0.333333     0\n",
      "x1   0.333333     1\n",
      "x2   0.333333     2\n",
      "x3   0.333333     3\n",
      "x4   0.333333     4\n",
      "x5   0.333333     5\n",
      "x6   0.333333     6\n",
      "x7   0.333333     7\n",
      "x8   0.333333     8\n",
      "x9   0.333333     9\n",
      "x10  0.333333    10\n",
      "----------------------------------------\n"
     ]
    }
   ],
   "source": [
    "# start in steady state\n",
    "df1 = map_simulate(x0 = np.array([1.0/3.0]), f_rules=f_logistic_factory(R=1.5))"
   ]
  },
  {
   "cell_type": "code",
   "execution_count": 101,
   "metadata": {},
   "outputs": [
    {
     "name": "stdout",
     "output_type": "stream",
     "text": [
      "'x0 = [0.9]'\n",
      "           S0  time\n",
      "x0   0.900000     0\n",
      "x1   0.135000     1\n",
      "x2   0.175162     2\n",
      "x3   0.216721     3\n",
      "x4   0.254629     4\n",
      "x5   0.284690     5\n",
      "x6   0.305462     6\n",
      "x7   0.318233     7\n",
      "x8   0.325441     8\n",
      "x9   0.329294     9\n",
      "x10  0.331289    10\n",
      "----------------------------------------\n"
     ]
    },
    {
     "data": {
      "image/png": "[encoded data removed]",
      "text/plain": [
       "<Figure size 720x720 with 1 Axes>"
      ]
     },
     "metadata": {
      "needs_background": "light"
     },
     "output_type": "display_data"
    }
   ],
   "source": [
    "def web_plot(x0, f_rules):\n",
    "    \"\"\"Web plot for given map.\"\"\"\n",
    "\n",
    "    xvec = np.linspace(0, 1, num=40)\n",
    "    df = map_simulate(x0, f_rules)\n",
    "    \n",
    "    f, ax = plt.subplots(nrows=1, ncols=1, figsize=(10, 10))\n",
    "    ax.plot(xvec, f_rules(xvec), label=\"map\")   # plot map\n",
    "    ax.plot(xvec, xvec, color=\"darkgrey\", label=\"union line\")  # union line    \n",
    "    \n",
    "    # get time series values\n",
    "    x_series = df.S0.values\n",
    "\n",
    "    x_web = []\n",
    "    y_web = []\n",
    "    for k in range(len(x_series)):\n",
    "        if k==0:\n",
    "            x_web.append(x_series[0])\n",
    "            y_web.append(0)\n",
    "        else:\n",
    "            x_web.append(x_series[k-1])\n",
    "            y_web.append(x_series[k])\n",
    "\n",
    "            x_web.append(x_series[k])\n",
    "            y_web.append(x_series[k])\n",
    "\n",
    "    ax.plot(x_web, y_web, 'o-', color=\"black\", label=\"timeseries\")\n",
    "    ax.legend()\n",
    "    ax.set_xlabel(\"x(t)\")\n",
    "    ax.set_ylabel(\"x(t+1)\")\n",
    "    \n",
    "    return f\n",
    "\n",
    "\n",
    "f = web_plot(x0=np.array([0.9]), f_rules=f_logistic_factory(R=1.5))\n",
    "plt.show()"
   ]
  },
  {
   "cell_type": "code",
   "execution_count": null,
   "metadata": {},
   "outputs": [],
   "source": []
  }
 ],
 "metadata": {
  "kernelspec": {
   "display_name": "mcp",
   "language": "python",
   "name": "mcp"
  },
  "language_info": {
   "codemirror_mode": {
    "name": "ipython",
    "version": 3
   },
   "file_extension": ".py",
   "mimetype": "text/x-python",
   "name": "python",
   "nbconvert_exporter": "python",
   "pygments_lexer": "ipython3",
   "version": "3.6.9"
  }
 },
 "nbformat": 4,
 "nbformat_minor": 4
}

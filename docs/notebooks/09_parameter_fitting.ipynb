{
 "cells": [
  {
   "cell_type": "markdown",
   "metadata": {},
   "source": [
    "# Parameter fitting"
   ]
  },
  {
   "cell_type": "code",
   "execution_count": 16,
   "metadata": {},
   "outputs": [],
   "source": [
    "import numpy as np\n",
    "from matplotlib import pyplot as plt\n",
    "\n",
    "# global settings for plots\n",
    "plt.rcParams.update({\n",
    "    'axes.labelsize': 'large',\n",
    "    'axes.labelweight': 'bold',\n",
    "    'axes.titlesize': 'medium',\n",
    "    'axes.titleweight': 'bold',\n",
    "    'legend.fontsize': 'small',\n",
    "    'xtick.labelsize': 'large',\n",
    "    'ytick.labelsize': 'large',\n",
    "    'figure.facecolor': '1.00'\n",
    "})"
   ]
  },
  {
   "cell_type": "markdown",
   "metadata": {},
   "source": [
    "## Particle Swarm Optimization (PSO)\n",
    "\n",
    "Particle swarm optimization solves a problem by \n",
    "- having a population of candidate solutions, here dubbed particles\n",
    "- moving these particles around in the search-space according to simple mathematical formulae over the particle's position and velocity. \n",
    "- Each particle's movement is influenced by its local best known position, but is also guided toward the best known positions in the search-space, which are updated as better positions are found by other particles.\n",
    "\n",
    "<img src=\"./fitting/particleswarm.gif\">\n",
    "\n",
    "https://en.wikipedia.org/wiki/Particle_swarm_optimization\n",
    "\n",
    "- PSO is a metaheuristic: makes few or no assumptions about the problem being optimized\n",
    "- can search very large spaces of candidate solutions. \n",
    "- However, metaheuristics such as PSO do not guarantee an optimal solution is ever found. \n",
    "- PSO does not use the gradient of the problem being optimized, which means PSO does not require that the optimization problem be differentiable as is required by classic optimization methods such as gradient descent and quasi-newton methods. "
   ]
  },
  {
   "cell_type": "markdown",
   "metadata": {},
   "source": [
    "## Steepest descent (gradient descent)\n",
    "In the foloowing example we apply the gradient descent algorithm to find a local minima in a 1 dimensional function:\n",
    "\n",
    "\n",
    "Function $F{(x)}=x^{4}-3x^{3}+2$, \n",
    "\n",
    "with derivative $F'{(x)}=4x^{3}-9x^{2}$ \n",
    "\n",
    "and second derivative $F''{(x)}=12x^{2}-9x$\n",
    "\n",
    "https://en.wikipedia.org/wiki/Gradient_descent\n",
    "\n",
    "We can easily calculate the minima analytically via $F(x)=0$ as $x_1=0$ and $x_2=9/4=2.25$.\n",
    "\n",
    "$F''{(x_2)} = 12 \\cdot (9/4)^2 - 9 \\cdot 9/4 =40.5> 0$"
   ]
  },
  {
   "cell_type": "code",
   "execution_count": 17,
   "metadata": {},
   "outputs": [
    {
     "data": {
      "text/plain": [
       "40.5"
      ]
     },
     "execution_count": 17,
     "metadata": {},
     "output_type": "execute_result"
    }
   ],
   "source": [
    "12* (9/4)**2 - 9*9/4"
   ]
  },
  {
   "cell_type": "code",
   "execution_count": 24,
   "metadata": {},
   "outputs": [
    {
     "data": {
      "image/png": "[encoded data removed]",
      "text/plain": [
       "<Figure size 720x360 with 2 Axes>"
      ]
     },
     "metadata": {},
     "output_type": "display_data"
    }
   ],
   "source": [
    "fig, (ax1, ax2) = plt.subplots(nrows=1, ncols=2, figsize=(10,5))\n",
    "\n",
    "ax1.set_title(\"F(x)= x^4 -3x^3 +2\")\n",
    "ax1.set_ylabel(\"F(x)\")\n",
    "ax2.set_title(\"F'(x)= 4x^3 -9x^2\")\n",
    "ax2.set_ylabel(\"F'(x)\")\n",
    "\n",
    "x = np.linspace(-4, 4, num=100)\n",
    "F = np.power(x, 4) - 3*np.power(x, 3) +2\n",
    "dFdx = 4*np.power(x, 3) - 9*np.power(x, 2)\n",
    "for ax in (ax1, ax3):\n",
    "    ax.plot(x, F, color=\"black\", label=\"F(x)\")\n",
    "for ax in (ax2, ax4):\n",
    "    ax.plot(x, dFdx, color=\"blue\", label=\"F'(x)\")\n",
    "\n",
    "for ax in (ax1, ax2, ax3, ax4):\n",
    "    ax.set_xlabel(\"x [-]\")\n",
    "for ax in (ax3, ax4):\n",
    "    ax.set_yscale(\"log\")\n",
    "    \n",
    "plt.show()"
   ]
  },
  {
   "cell_type": "code",
   "execution_count": 3,
   "metadata": {},
   "outputs": [
    {
     "name": "stdout",
     "output_type": "stream",
     "text": [
      "0.5999999999999996\n",
      "0.6237599999999996\n",
      "0.6490692731402646\n",
      "0.6760475763767438\n",
      "0.704821965498881\n",
      "0.7355261366038248\n",
      "0.7682992721113444\n",
      "0.8032842278686305\n",
      "0.840624861847519\n",
      "0.8804622684298664\n",
      "0.9229296507309586\n",
      "0.9681455460305634\n",
      "1.016205130521792\n",
      "1.067169389942697\n",
      "1.1210520795330405\n",
      "1.1778046421472836\n",
      "1.237299637824332\n",
      "1.2993137782331108\n",
      "1.3635123370474889\n",
      "1.429437442158506\n",
      "1.4965033788967752\n",
      "1.5640022802344904\n",
      "1.6311231270849003\n",
      "1.6969855549473505\n",
      "1.7606875094969714\n",
      "1.821362659674955\n",
      "1.8782404675959476\n",
      "1.930700009196379\n",
      "1.9783089472809865\n",
      "2.0208417065692057\n",
      "2.0582751831448975\n",
      "2.090764845528107\n",
      "2.118607415721545\n",
      "2.1421976265432066\n",
      "2.1619858762300224\n",
      "2.178441640823547\n",
      "2.1920251576443675\n",
      "2.203167862727841\n",
      "2.2122606942724694\n",
      "2.2196486877629633\n",
      "2.2256301304909205\n",
      "2.2304587076907274\n",
      "2.234347382687595\n",
      "2.2374730902946083\n",
      "2.239981621916576\n",
      "2.2419923174775156\n",
      "2.243602351591089\n",
      "2.2448905184851697\n",
      "2.2459204946033684\n",
      "2.2467436015363202\n",
      "2.2474011148628947\n",
      "2.2479261740485823\n",
      "2.2483453500247714\n",
      "2.2486799240099864\n",
      "2.2489469258218673\n",
      "2.2491599737759116\n",
      "2.2493299520940697\n",
      "2.249465555993498\n",
      "2.24957372949745\n",
      "2.249660016570137\n",
      "2.2497288424102844\n",
      "2.24978373858824\n",
      "2.2498275231061067\n",
      "2.249862444322635\n",
      "2.249890295941524\n",
      "2.2499125088471215\n",
      "2.24993022442776\n",
      "2.249944353104799\n",
      "2.2499556210437\n",
      "2.2499646074278457\n",
      "The local minimum occurs at 2.2499646074278457\n"
     ]
    }
   ],
   "source": [
    "# From calculation, it is expected that the local minimum occurs at x=9/4\n",
    "import numpy as np\n",
    "\n",
    "cur_x = 6.0  # The algorithm starts at x=6\n",
    "gamma = 0.01  # step size multiplier\n",
    "precision = 0.00001\n",
    "previous_step_size = 1 \n",
    "max_iters = 10000 # maximum number of iterations\n",
    "iters = 0  # iteration counter\n",
    "\n",
    "fun = lambda x: np.power(x,4) - 3*np.power(x,3) + 2\n",
    "df = lambda x: 4 * np.power(x,3) - 9 * np.power(x, 2)\n",
    "\n",
    "x_vals = [cur_x]\n",
    "while previous_step_size > precision and iters < max_iters:\n",
    "    prev_x = cur_x\n",
    "    cur_x -= gamma * df(prev_x)\n",
    "    previous_step_size = abs(cur_x - prev_x)\n",
    "    iters += 1\n",
    "    print(cur_x)\n",
    "    x_vals.append(cur_x)\n",
    "\n",
    "print(\"The local minimum occurs at\", cur_x)\n",
    "#The output for the above will be: ('The local minimum occurs at', 2.2499646074278457)"
   ]
  },
  {
   "cell_type": "code",
   "execution_count": 30,
   "metadata": {},
   "outputs": [
    {
     "name": "stdout",
     "output_type": "stream",
     "text": [
      "[6.         0.6        0.62376    0.64906927 0.67604758 0.70482197\n",
      " 0.73552614 0.76829927 0.80328423 0.84062486 0.88046227 0.92292965\n",
      " 0.96814555 1.01620513 1.06716939 1.12105208 1.17780464 1.23729964\n",
      " 1.29931378 1.36351234 1.42943744 1.49650338 1.56400228 1.63112313\n",
      " 1.69698555 1.76068751 1.82136266 1.87824047 1.93070001 1.97830895\n",
      " 2.02084171 2.05827518 2.09076485 2.11860742 2.14219763 2.16198588\n",
      " 2.17844164 2.19202516 2.20316786 2.21226069 2.21964869 2.22563013\n",
      " 2.23045871 2.23434738 2.23747309 2.23998162 2.24199232 2.24360235\n",
      " 2.24489052 2.24592049 2.2467436  2.24740111 2.24792617 2.24834535\n",
      " 2.24867992 2.24894693 2.24915997 2.24932995 2.24946556 2.24957373\n",
      " 2.24966002 2.24972884 2.24978374 2.24982752 2.24986244 2.2498903\n",
      " 2.24991251 2.24993022 2.24994435 2.24995562 2.24996461]\n"
     ]
    }
   ],
   "source": [
    "x_vals = np.array(x_vals)\n",
    "x_range = np.arange(0,7,0.1)\n",
    "print(x_vals)"
   ]
  },
  {
   "cell_type": "code",
   "execution_count": 42,
   "metadata": {},
   "outputs": [
    {
     "data": {
      "text/plain": [
       "[<matplotlib.lines.Line2D at 0x7efdce9c3c18>]"
      ]
     },
     "execution_count": 42,
     "metadata": {},
     "output_type": "execute_result"
    },
    {
     "data": {
      "image/png": "[encoded data removed]",
      "text/plain": [
       "<Figure size 720x360 with 2 Axes>"
      ]
     },
     "metadata": {
      "needs_background": "light"
     },
     "output_type": "display_data"
    }
   ],
   "source": [
    "from matplotlib import pyplot as plt\n",
    "f, (ax1, ax2) = plt.subplots(nrows=1, ncols=2, figsize=(10,5))\n",
    "\n",
    "ax1.plot(x_range, fun(x_range), '-', color=\"blue\", label=\"f\")\n",
    "ax1.plot(x_vals, fun(x_vals), 'o--', color=\"black\")\n",
    "ax2.plot(x_range, df(x_range), '-', color=\"blue\", label=\"df\")\n",
    "ax2.plot(x_vals, df(x_vals), 'o--', color=\"black\", label=\"df\")\n",
    "# ax1.set_yscale(\"log\")\n",
    "# ax1.set_ylim(10E-5, 10E3)\n"
   ]
  },
  {
   "cell_type": "markdown",
   "metadata": {},
   "source": [
    "Gradient descent has problems with pathological functions (zig-zag behavior)\n",
    "The \"Zig-Zagging\" nature of the method is also evident below, where the gradient descent method is applied to $F\\left(x,y\\right)=\\sin \\left({\\frac {1}{2}}x^{2}-{\\frac {1}{4}}y^{2}+3\\right)\\cos \\left(2x+1-e^{y}\\right)$. \n",
    "\n",
    "<img src=\"./fitting/gradient_zigzag.png\" width=\"500\"/>"
   ]
  },
  {
   "cell_type": "code",
   "execution_count": null,
   "metadata": {},
   "outputs": [],
   "source": []
  }
 ],
 "metadata": {
  "kernelspec": {
   "display_name": "mcp",
   "language": "python",
   "name": "mcp"
  },
  "language_info": {
   "codemirror_mode": {
    "name": "ipython",
    "version": 3
   },
   "file_extension": ".py",
   "mimetype": "text/x-python",
   "name": "python",
   "nbconvert_exporter": "python",
   "pygments_lexer": "ipython3",
   "version": "3.6.8"
  }
 },
 "nbformat": 4,
 "nbformat_minor": 4
}

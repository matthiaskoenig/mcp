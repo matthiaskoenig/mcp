{
 "cells": [
  {
   "cell_type": "markdown",
   "metadata": {},
   "source": [
    "# Cellular automata code"
   ]
  },
  {
   "cell_type": "markdown",
   "metadata": {},
   "source": [
    "## Cellular automata in a nutshell"
   ]
  },
  {
   "cell_type": "markdown",
   "metadata": {},
   "source": [
    "A cellular automaton is a discrete model studied in computer science, mathematics, physics, complexity science, theoretical biology and microstructure modeling. \n",
    "\n",
    "<img src=\"./images/Gospers_glider_gun.gif\" width=\"200\"/>\n",
    "\n",
    "- A cellular automaton consists of a regular grid of cells, each in one of a finite number of states, such as on and off. \n",
    "- For each cell, a set of cells called its neighborhood is defined relative to the specified cell. \n",
    "- An initial state (time t = 0) is selected by assigning a state for each cell. \n",
    "- A new generation is created (advancing t by 1), according to some fixed rule (generally, a mathematical function) that determines the new state of each cell in terms of the current state of the cell and the states of the cells in its neighborhood. \n",
    "- Typically, the rule for updating the state of cells is the same for each cell and does not change over time, and is applied to the whole grid simultaneously.\n",
    "\n",
    "For more information see https://en.wikipedia.org/wiki/Cellular_automaton.\n",
    "\n",
    "A more in depth introduction with hints how to solve the task is given in https://natureofcode.com/book/chapter-7-cellular-automata/"
   ]
  },
  {
   "cell_type": "markdown",
   "metadata": {},
   "source": [
    "### Example\n",
    "Build and simulate the simple cellular automaton with the following characteristics:\n",
    "\n",
    "- **Grid**: We will use the simplest possible grid, which is one-dimensional: a line of cells.\n",
    "- **States**: The simplest set of states (beyond having only one state) are the two possible states per cell: 0 or 1.\n",
    "- **Neighborhood**: The simplest neighborhood in one dimension for any given cell would be the cell itself and its two adjacent neighbors: one to the left and one to the right.\n",
    "- **Rules**: Define how a cell is updated based on its neighborhood. The simplest rules are identical rules for every cell.\n",
    "\n",
    "For the update rules we need to define an outcome (new state value 0 or 1) for a cell based on its current neighborhood.\n",
    "The following rules are applied:\n",
    "\n",
    "```\n",
    "neighborhood (with cell in the center) -> new state of cell\n",
    "000 -> 0\n",
    "001 -> 1\n",
    "010 -> 0\n",
    "011 -> 1\n",
    "100 -> 1\n",
    "101 -> 0\n",
    "110 -> 1\n",
    "111 -> 0\n",
    "```\n",
    "- the one dimensional grid contains `101` cells\n",
    "- the initial state of all cells is 0, with exception of the cell in the middle of the grid which starts with state 1"
   ]
  },
  {
   "cell_type": "markdown",
   "metadata": {},
   "source": [
    "***Cellular automaton as a special boolean network***\n",
    "- reuse our simulator"
   ]
  },
  {
   "cell_type": "code",
   "execution_count": 1,
   "metadata": {},
   "outputs": [],
   "source": [
    "%matplotlib inline\n",
    "from matplotlib import pyplot as plt\n",
    "import numpy as np\n",
    "from pprint import pprint\n",
    "\n",
    "def ndsimulate(x0, f_rules, steps=10):\n",
    "    \"\"\" Simulates the boolean network from initial state by applying given rules.\"\"\"\n",
    "    states = np.zeros(shape=((steps+1), x0.size), dtype=bool)\n",
    "    \n",
    "    print(\"-\" * 40)\n",
    "    pprint(\"x0 = {}\".format(x0.astype(np.int)))\n",
    "    states[0, :] = x0\n",
    "    for k in range(steps):\n",
    "        x = states[k]\n",
    "        states[k+1, :] = f_rules(states[k, :])\n",
    "        \n",
    "    # pprint(states.astype(np.int))\n",
    "    return states\n",
    "\n",
    "def plot_states(states, figsize=(5,3), ylabel=\"time step\"):\n",
    "    \"\"\"Plot the states.\"\"\"\n",
    "    Nt, Nx = states.shape\n",
    "    fig = plt.figure(figsize=figsize)\n",
    "    plt.imshow(states.astype(np.double), cmap=\"binary\")\n",
    "    plt.colorbar()\n",
    "    plt.ylabel(ylabel)\n",
    "    plt.xlabel(\"state\")\n",
    "    ax = plt.gca()\n",
    "    ax.set_xticks(range(Nx))\n",
    "    ax.set_xticklabels(['x{}'.format(k) for k in range(Nx)])\n",
    "    plt.show()"
   ]
  },
  {
   "cell_type": "code",
   "execution_count": 2,
   "metadata": {},
   "outputs": [
    {
     "name": "stdout",
     "output_type": "stream",
     "text": [
      "----------------------------------------\n",
      "('x0 = [0 0 0 0 0 0 0 0 0 0 0 0 0 0 0 0 0 0 0 0 0 0 0 0 0 0 0 0 0 0 0 0 0 0 0 '\n",
      " '0 0\\n'\n",
      " ' 0 0 0 0 0 0 0 0 0 0 0 0 0 0 1 0 0 0 0 0 0 0 0 0 0 0 0 0 0 0 0 0 0 0 0 0 0\\n'\n",
      " ' 0 0 0 0 0 0 0 0 0 0 0 0 0 0 0 0 0 0 0 0 0 0 0 0 0 0 0]')\n"
     ]
    },
    {
     "data": {
      "image/png": "[encoded data removed]",
      "text/plain": [
       "<Figure size 720x720 with 2 Axes>"
      ]
     },
     "metadata": {
      "needs_background": "light"
     },
     "output_type": "display_data"
    }
   ],
   "source": [
    "def f_automaton(x):\n",
    "    \"\"\" New state based on neighborhood (cell in center)\n",
    "    000 -> 0  [0]\n",
    "    001 -> 1  [1]\n",
    "    010 -> 0  [2]\n",
    "    011 -> 1  [3]\n",
    "    100 -> 1  [4]\n",
    "    101 -> 0  [5]\n",
    "    110 -> 1  [6]\n",
    "    111 -> 0  [7]\n",
    "    \"\"\"\n",
    "    Nx = x.size\n",
    "    y = np.zeros_like(x)\n",
    "    for k in range(Nx):\n",
    "        \n",
    "        s = np.zeros(shape=(3,))\n",
    "        # get the neighborhood\n",
    "        if k==0:\n",
    "            s[0] = x[-1]\n",
    "            s[1] = x[0]\n",
    "            s[2] = x[1]\n",
    "        elif k==(Nx-1):\n",
    "            s[0] = x[Nx-2]\n",
    "            s[1] = x[Nx-1]\n",
    "            s[2] = x[0]\n",
    "        else:\n",
    "            s = x[(k-1):(k+2)]\n",
    "    \n",
    "        s = ''.join(s.astype(np.uint8).astype(str))\n",
    "    \n",
    "        # update based on neighborhood\n",
    "        if s == '000':\n",
    "            y[k] = 0\n",
    "        elif s == '001':\n",
    "            y[k] = 1\n",
    "        elif s == '010':\n",
    "            y[k] = 0\n",
    "        elif s == '011':\n",
    "            y[k] = 1\n",
    "        elif s == '100':\n",
    "            y[k] = 1\n",
    "        elif s == '101':\n",
    "            y[k] = 0\n",
    "        elif s == '110':\n",
    "            y[k] = 1\n",
    "        elif s == '111':\n",
    "            y[k] = 0\n",
    "    return y\n",
    "\n",
    "# initial condition\n",
    "Nx = 101\n",
    "x0 = np.zeros(Nx, dtype=bool)\n",
    "x0[int((Nx-1)/2 + 1)] = 1\n",
    "\n",
    "states = ndsimulate(x0, f_rules=f_automaton, steps=100)\n",
    "plot_states(states, figsize=(10,10))"
   ]
  },
  {
   "cell_type": "code",
   "execution_count": 3,
   "metadata": {},
   "outputs": [],
   "source": [
    "# Create animation\n",
    "Nt, Nx = states.shape\n",
    "filenames = []\n",
    "for k in range(Nt):\n",
    "    filename = \"./results/automaton/a_{:04}.png\".format(k)\n",
    "    # print(filename)\n",
    "    \n",
    "    fig = plt.figure(figsize=(10,4))\n",
    "    data = states[k,:].astype(np.double)\n",
    "    data = data.reshape((1, Nx))\n",
    "    \n",
    "    plt.imshow(data, cmap=\"binary\")\n",
    "    plt.title(\"time: {}\".format(k))\n",
    "    # plt.ylabel(\"time: {}\".format(k))\n",
    "    # plt.xlabel(\"state\")\n",
    "    ax = plt.gca()\n",
    "    ax.set_xticks([])\n",
    "    ax.set_xticklabels([])\n",
    "    ax.set_yticks([])\n",
    "    ax.set_yticklabels([])\n",
    "    \n",
    "    fig.savefig(filename, bbox_inches=\"tight\")\n",
    "    plt.close()\n",
    "    filenames.append(filename)"
   ]
  },
  {
   "cell_type": "code",
   "execution_count": 4,
   "metadata": {},
   "outputs": [],
   "source": [
    "import imageio\n",
    "\n",
    "def create_gif(output_file, filenames, duration):\n",
    "    images = []\n",
    "    for filename in filenames:\n",
    "        images.append(imageio.imread(filename))\n",
    "    imageio.mimsave(output_file, images, duration=duration)\n",
    "\n",
    "create_gif('./images/automaton.gif', filenames, duration=0.2)"
   ]
  },
  {
   "cell_type": "markdown",
   "metadata": {},
   "source": [
    "<img src=\"./images/automaton.gif\" width=\"1000\"/>"
   ]
  },
  {
   "cell_type": "code",
   "execution_count": null,
   "metadata": {},
   "outputs": [],
   "source": []
  }
 ],
 "metadata": {
  "kernelspec": {
   "display_name": "mcp",
   "language": "python",
   "name": "mcp"
  },
  "language_info": {
   "codemirror_mode": {
    "name": "ipython",
    "version": 3
   },
   "file_extension": ".py",
   "mimetype": "text/x-python",
   "name": "python",
   "nbconvert_exporter": "python",
   "pygments_lexer": "ipython3",
   "version": "3.6.8"
  }
 },
 "nbformat": 4,
 "nbformat_minor": 4
}

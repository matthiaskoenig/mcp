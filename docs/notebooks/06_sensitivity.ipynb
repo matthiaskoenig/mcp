{
 "cells": [
  {
   "cell_type": "markdown",
   "metadata": {},
   "source": [
    "# Metabolic control analyis & sensitivity"
   ]
  },
  {
   "cell_type": "markdown",
   "metadata": {},
   "source": [
    "We will analyse contraint-based models of the form\n",
    "\n",
    "\\begin{equation}\n",
    "    \\max_{v^0} c^T \\cdot v \\\\\n",
    "    s.t. N \\cdot v^0 = 0 \\\\\n",
    "    \\alpha_i \\leq v_i^0 \\leq \\beta_i\n",
    "\\end{equation}\n",
    "\n",
    "using `cobrapy`.\n",
    "\n",
    "Information in this tutorial is based on \n",
    "https://cobrapy.readthedocs.io/en/latest/"
   ]
  },
  {
   "cell_type": "code",
   "execution_count": 1,
   "metadata": {},
   "outputs": [],
   "source": [
    "%matplotlib inline"
   ]
  },
  {
   "cell_type": "markdown",
   "metadata": {},
   "source": [
    "## 1. Working with metabolic models\n",
    "### 1.1 Loading and inspecting model\n",
    "To begin with, cobrapy comes with a “textbook” model of E. coli core metabolism. To load the test model use"
   ]
  },
  {
   "cell_type": "code",
   "execution_count": 2,
   "metadata": {},
   "outputs": [],
   "source": [
    "# metabolic control coefficients"
   ]
  },
  {
   "cell_type": "code",
   "execution_count": null,
   "metadata": {},
   "outputs": [],
   "source": []
  }
 ],
 "metadata": {
  "kernelspec": {
   "display_name": "mcp",
   "language": "python",
   "name": "mcp"
  },
  "language_info": {
   "codemirror_mode": {
    "name": "ipython",
    "version": 3
   },
   "file_extension": ".py",
   "mimetype": "text/x-python",
   "name": "python",
   "nbconvert_exporter": "python",
   "pygments_lexer": "ipython3",
   "version": "3.6.8"
  }
 },
 "nbformat": 4,
 "nbformat_minor": 4
}
